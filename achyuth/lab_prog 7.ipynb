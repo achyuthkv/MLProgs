{
 "cells": [
  {
   "cell_type": "markdown",
   "metadata": {},
   "source": [
    "# program 7"
   ]
  },
  {
   "cell_type": "code",
   "execution_count": 1,
   "metadata": {},
   "outputs": [
    {
     "name": "stdout",
     "output_type": "stream",
     "text": [
      "[{\n",
      "    \"class\" :\"Distribution\",\n",
      "    \"dtype\" :\"str\",\n",
      "    \"name\" :\"DiscreteDistribution\",\n",
      "    \"parameters\" :[\n",
      "        {\n",
      "            \"True\" :0.9523809523809521,\n",
      "            \"False\" :0.04761904761904782\n",
      "        }\n",
      "    ],\n",
      "    \"frozen\" :false\n",
      "}\n",
      " 'True'\n",
      " {\n",
      "    \"class\" :\"Distribution\",\n",
      "    \"dtype\" :\"str\",\n",
      "    \"name\" :\"DiscreteDistribution\",\n",
      "    \"parameters\" :[\n",
      "        {\n",
      "            \"True\" :0.5,\n",
      "            \"False\" :0.5\n",
      "        }\n",
      "    ],\n",
      "    \"frozen\" :false\n",
      "}]\n"
     ]
    }
   ],
   "source": [
    "from pomegranate import * \n",
    "asia=DiscreteDistribution({\"True\":0.5, \"False\":0.5 })   \n",
    "tuberculosis=ConditionalProbabilityTable(\n",
    "[[\"True\",\"True\", 0.2],\n",
    "\n",
    "[\"True\",\"False\", 0.8],\n",
    "[ \"False\", \"True\", 0.01],\n",
    "[ \"False\", \"False\", 0.98]], [asia])\n",
    "\n",
    "smoking = DiscreteDistribution({\"True\":0.5,\"False\":0.5 })\n",
    "lung = ConditionalProbabilityTable(\n",
    "[[\"True\",\"True\", 0.75],\n",
    "[\"True\",\"False\",0.25],\n",
    "[\"False\",\"True\", 0.02],\n",
    "[\"False\",\"False\", 0.98]], [smoking])\n",
    "\n",
    "bronchitis = ConditionalProbabilityTable(\n",
    "\n",
    "[[\"True\",\"True\", 0.92],\n",
    "[\"True\",\"False\",0.08],\n",
    "[\"False\",\"True\",0.03],\n",
    "[\"False\",\"False\", 0.98]], [ smoking])\n",
    "\n",
    "tuberculosis_or_cancer = ConditionalProbabilityTable( [[\"True\",\"True\",\"True\", 1.0], [\"True\",\"True\",\"False\", 0.0],\n",
    "\n",
    "[\"True\",\"False\",\"True\", 1.0],\n",
    "[\"True\",\"False\",\"False\", 0.0],\n",
    "[\"False\",\"True\",\"True\", 1.0],\n",
    "[\"False\",\"True\",\"False\", 0.0],\n",
    "[\"False\",\"False\"\"True\", 1.0],\n",
    "[\"False\",\"False\",\"False\", 0.0]], [tuberculosis, lung])\n",
    "\n",
    "Xray = ConditionalProbabilityTable( [[\"True\",\"True\", 0.885], [\"True\",\"False\", 0.115],\n",
    "[\"False\",\"True\", 0.04], [\"False\",\"False\", 0.96]], [tuberculosis_or_cancer])\n",
    "\n",
    "dyspnea = ConditionalProbabilityTable( [[\"True\",\"True\",\"True\", 0.96],\n",
    "[\"True\",\"True\",\"False\", 0.04], [\"True\",\"False\",\"True\", 0.89],\n",
    "[\"True\",\"True\",\"False\", 0.04], [\"True\",\"False\",\"True\", 0.89],\n",
    "[\"True\",\"False\",\"False\", 0.11], [\"False\",\"True\",\"True\", 0.96],\n",
    "[\"False\",\"True\",\"False\", 0.04], [\"False\",\"False\"\"True\", 0.89],\n",
    "\n",
    "[\"False\",\"False\",\"False\", 0.11 ]], [tuberculosis_or_cancer, bronchitis])\n",
    "s0 = State(asia, name=\"asia\")\n",
    "s1 = State(tuberculosis, name=\"tuberculosis\")\n",
    "s2 = State(smoking, name=\"smoker\")\n",
    "network = BayesianNetwork(\"asia\")\n",
    "network.add_nodes(s0,s1,s2)\n",
    "network.add_edge(s0,s1)\n",
    "network.add_edge(s1,s2)\n",
    "network.bake()\n",
    "print(network.predict_proba({\"tuberculosis\":\"True\"}))\n",
    "\n"
   ]
  },
  {
   "cell_type": "code",
   "execution_count": null,
   "metadata": {},
   "outputs": [],
   "source": []
  }
 ],
 "metadata": {
  "kernelspec": {
   "display_name": "Python 3",
   "language": "python",
   "name": "python3"
  },
  "language_info": {
   "codemirror_mode": {
    "name": "ipython",
    "version": 3
   },
   "file_extension": ".py",
   "mimetype": "text/x-python",
   "name": "python",
   "nbconvert_exporter": "python",
   "pygments_lexer": "ipython3",
   "version": "3.6.5"
  }
 },
 "nbformat": 4,
 "nbformat_minor": 2
}
