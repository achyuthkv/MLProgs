{
 "cells": [
  {
   "cell_type": "code",
   "execution_count": 2,
   "metadata": {
    "collapsed": true
   },
   "outputs": [],
   "source": [
    "import numpy as np\n",
    "import pandas as pd\n",
    "\n",
    "# Loading Data from a CSV File\n",
    "data = pd.DataFrame(data=pd.read_csv('finds.csv'))\n",
    "\n",
    "\n",
    "# Separating concept features from Target\n",
    "concepts = np.array(data.iloc[:,0:-1])\n",
    "\n",
    "# Isolating target into a separate DataFrame\n",
    "target = np.array(data.iloc[:,-1])"
   ]
  },
  {
   "cell_type": "code",
   "execution_count": 3,
   "metadata": {
    "collapsed": true
   },
   "outputs": [],
   "source": [
    "def learn(concepts, target):\n",
    "    '''\n",
    "    learn() function implements the learning method of the Candidate elimination algorithm.\n",
    "    \n",
    "    Arguments:\n",
    "    concepts - a data frame with all the features \n",
    "    target - a data frame with corresponding output values\n",
    "    '''\n",
    "    \n",
    "    # Initialise S0 with the first instance from concepts\n",
    "    # .copy() makes sure a new list is created instead of just pointing to the same memory location\n",
    "    specific_h = concepts[0].copy()\n",
    "\n",
    "    # The learning iterations\n",
    "    for i, h in enumerate(concepts):\n",
    "        \n",
    "        # Checking if the hypothesis has a positive target\n",
    "        if target[i] == \"Yes\":\n",
    "            for x in range(len(specific_h)):\n",
    "                if h[x] != specific_h[x]:\n",
    "                    # If the value in the corresponding index has changed, replace it with a ?\n",
    "                    specific_h[x] = \"?\"     \n",
    "                    \n",
    "    # returning the final value\n",
    "    return specific_h"
   ]
  },
  {
   "cell_type": "code",
   "execution_count": 4,
   "metadata": {},
   "outputs": [
    {
     "name": "stdout",
     "output_type": "stream",
     "text": [
      "['Sunny' 'Warm' '?' 'Strong' '?' '?']\n"
     ]
    }
   ],
   "source": [
    "specific_h = learn(concepts, target)\n",
    "print(specific_h)"
   ]
  },
  {
   "cell_type": "code",
   "execution_count": 5,
   "metadata": {
    "collapsed": true
   },
   "outputs": [],
   "source": [
    "def predict(h, specific_h):\n",
    "    '''\n",
    "    Predict method takes the trained hyposthesis and compares\n",
    "    it with a new one for whom we need to predict the output\n",
    "    '''\n",
    "    \n",
    "    # Get indices from specific_h where there are ?\n",
    "    indices = np.where(specific_h==\"?\")\n",
    "    \n",
    "    # Create a prediction list from specific_h\n",
    "    d = list(specific_h)\n",
    "    \n",
    "    # Iterate over specific_h\n",
    "    for i, val in enumerate(specific_h):\n",
    "        # If values are same, update d with True\n",
    "        if val == h[i]:\n",
    "            d[i] = True\n",
    "            \n",
    "        # else with false\n",
    "        else:\n",
    "            d[i] = False\n",
    "    \n",
    "    # And also replace all the \"?\" in the list with True\n",
    "    for i in indices[0]:\n",
    "        d[i] = True\n",
    "        \n",
    "    # Return True if all the values in list d are true\n",
    "    return all(d)"
   ]
  },
  {
   "cell_type": "code",
   "execution_count": 6,
   "metadata": {},
   "outputs": [
    {
     "name": "stdout",
     "output_type": "stream",
     "text": [
      "True\n"
     ]
    }
   ],
   "source": [
    "print(predict(concepts[1], specific_h))"
   ]
  },
  {
   "cell_type": "code",
   "execution_count": null,
   "metadata": {
    "collapsed": true
   },
   "outputs": [],
   "source": []
  }
 ],
 "metadata": {
  "kernelspec": {
   "display_name": "Python 3",
   "language": "python",
   "name": "python3"
  },
  "language_info": {
   "codemirror_mode": {
    "name": "ipython",
    "version": 3
   },
   "file_extension": ".py",
   "mimetype": "text/x-python",
   "name": "python",
   "nbconvert_exporter": "python",
   "pygments_lexer": "ipython3",
   "version": "3.6.1"
  }
 },
 "nbformat": 4,
 "nbformat_minor": 2
}
